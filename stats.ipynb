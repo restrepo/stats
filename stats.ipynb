{
 "cells": [
  {
   "cell_type": "code",
   "execution_count": 1,
   "metadata": {
    "collapsed": false
   },
   "outputs": [
    {
     "name": "stdout",
     "output_type": "stream",
     "text": [
      "Populating the interactive namespace from numpy and matplotlib\n"
     ]
    }
   ],
   "source": [
    "%pylab inline"
   ]
  },
  {
   "cell_type": "code",
   "execution_count": 2,
   "metadata": {
    "collapsed": true
   },
   "outputs": [],
   "source": [
    "import pandas as pd\n",
    "def time2sec(t):\n",
    "    gt=[int(i) for i in t.split(':')]\n",
    "    return gt[0]*3600+gt[1]*60+gt[2]"
   ]
  },
  {
   "cell_type": "code",
   "execution_count": 3,
   "metadata": {
    "collapsed": true
   },
   "outputs": [],
   "source": [
    "id='1uwzub_IV5l5hTzxYtINl9S9Dko06OaMbp2etqhpYa2M'\n",
    "df=pd.read_csv('https://docs.google.com/spreadsheets/d/%s/export?format=csv' %id)\n",
    "df=df.fillna(0)\n",
    "df['Segundos']=df.Duracion.apply(time2sec)"
   ]
  },
  {
   "cell_type": "code",
   "execution_count": 4,
   "metadata": {
    "collapsed": false
   },
   "outputs": [
    {
     "data": {
      "text/html": [
       "<div>\n",
       "<table border=\"1\" class=\"dataframe\">\n",
       "  <thead>\n",
       "    <tr style=\"text-align: right;\">\n",
       "      <th></th>\n",
       "      <th>Timestamp</th>\n",
       "      <th>Ruta</th>\n",
       "      <th>Duracion</th>\n",
       "      <th>Distancia</th>\n",
       "      <th>Velocidad</th>\n",
       "      <th>Velocidad máxima</th>\n",
       "      <th>W</th>\n",
       "      <th>Segundos</th>\n",
       "    </tr>\n",
       "  </thead>\n",
       "  <tbody>\n",
       "    <tr>\n",
       "      <th>0</th>\n",
       "      <td>2/7/2016 6:43:09</td>\n",
       "      <td>D: 1km</td>\n",
       "      <td>0:01:20</td>\n",
       "      <td>1.000</td>\n",
       "      <td>45.0</td>\n",
       "      <td>0.0</td>\n",
       "      <td>0</td>\n",
       "      <td>80</td>\n",
       "    </tr>\n",
       "    <tr>\n",
       "      <th>1</th>\n",
       "      <td>9/23/2015 20:38:07</td>\n",
       "      <td>D: 1km</td>\n",
       "      <td>0:01:23</td>\n",
       "      <td>1.000</td>\n",
       "      <td>43.4</td>\n",
       "      <td>0.0</td>\n",
       "      <td>0</td>\n",
       "      <td>83</td>\n",
       "    </tr>\n",
       "    <tr>\n",
       "      <th>2</th>\n",
       "      <td>9/16/2015 20:25:08</td>\n",
       "      <td>D: 1km</td>\n",
       "      <td>0:01:25</td>\n",
       "      <td>1.000</td>\n",
       "      <td>42.4</td>\n",
       "      <td>0.0</td>\n",
       "      <td>0</td>\n",
       "      <td>85</td>\n",
       "    </tr>\n",
       "    <tr>\n",
       "      <th>3</th>\n",
       "      <td>9/29/2015 22:01:05</td>\n",
       "      <td>D: 1km</td>\n",
       "      <td>0:01:31</td>\n",
       "      <td>1.000</td>\n",
       "      <td>39.6</td>\n",
       "      <td>0.0</td>\n",
       "      <td>0</td>\n",
       "      <td>91</td>\n",
       "    </tr>\n",
       "    <tr>\n",
       "      <th>4</th>\n",
       "      <td>9/22/2015 21:02:28</td>\n",
       "      <td>D: 1km</td>\n",
       "      <td>0:01:38</td>\n",
       "      <td>1.000</td>\n",
       "      <td>36.7</td>\n",
       "      <td>0.0</td>\n",
       "      <td>0</td>\n",
       "      <td>98</td>\n",
       "    </tr>\n",
       "    <tr>\n",
       "      <th>5</th>\n",
       "      <td>2/3/2016 20:44:11</td>\n",
       "      <td>B: Autopista</td>\n",
       "      <td>0:16:35</td>\n",
       "      <td>6.043</td>\n",
       "      <td>21.9</td>\n",
       "      <td>0.0</td>\n",
       "      <td>0</td>\n",
       "      <td>995</td>\n",
       "    </tr>\n",
       "    <tr>\n",
       "      <th>6</th>\n",
       "      <td>1/25/2016 21:05:48</td>\n",
       "      <td>B: Autopista</td>\n",
       "      <td>0:16:56</td>\n",
       "      <td>6.090</td>\n",
       "      <td>21.6</td>\n",
       "      <td>0.0</td>\n",
       "      <td>0</td>\n",
       "      <td>1016</td>\n",
       "    </tr>\n",
       "    <tr>\n",
       "      <th>7</th>\n",
       "      <td>9/23/2015 20:34:57</td>\n",
       "      <td>B: Autopista</td>\n",
       "      <td>0:17:23</td>\n",
       "      <td>5.960</td>\n",
       "      <td>20.6</td>\n",
       "      <td>0.0</td>\n",
       "      <td>0</td>\n",
       "      <td>1043</td>\n",
       "    </tr>\n",
       "    <tr>\n",
       "      <th>8</th>\n",
       "      <td>9/16/2015 20:17:46</td>\n",
       "      <td>B: Autopista</td>\n",
       "      <td>0:17:44</td>\n",
       "      <td>5.980</td>\n",
       "      <td>20.2</td>\n",
       "      <td>0.0</td>\n",
       "      <td>0</td>\n",
       "      <td>1064</td>\n",
       "    </tr>\n",
       "    <tr>\n",
       "      <th>9</th>\n",
       "      <td>2/4/2016 22:00:30</td>\n",
       "      <td>A:  Geodésica</td>\n",
       "      <td>0:15:38</td>\n",
       "      <td>5.209</td>\n",
       "      <td>20.0</td>\n",
       "      <td>0.0</td>\n",
       "      <td>0</td>\n",
       "      <td>938</td>\n",
       "    </tr>\n",
       "    <tr>\n",
       "      <th>10</th>\n",
       "      <td>10/1/2015 21:33:12</td>\n",
       "      <td>A:  Geodésica</td>\n",
       "      <td>0:15:33</td>\n",
       "      <td>5.160</td>\n",
       "      <td>19.9</td>\n",
       "      <td>0.0</td>\n",
       "      <td>0</td>\n",
       "      <td>933</td>\n",
       "    </tr>\n",
       "    <tr>\n",
       "      <th>11</th>\n",
       "      <td>2/3/2016 0:53:28</td>\n",
       "      <td>A:  Geodésica</td>\n",
       "      <td>0:15:52</td>\n",
       "      <td>5.205</td>\n",
       "      <td>19.6</td>\n",
       "      <td>0.0</td>\n",
       "      <td>0</td>\n",
       "      <td>952</td>\n",
       "    </tr>\n",
       "    <tr>\n",
       "      <th>12</th>\n",
       "      <td>2/9/2016 21:16:02</td>\n",
       "      <td>A:  Geodésica</td>\n",
       "      <td>0:16:28</td>\n",
       "      <td>5.245</td>\n",
       "      <td>19.1</td>\n",
       "      <td>0.0</td>\n",
       "      <td>0</td>\n",
       "      <td>988</td>\n",
       "    </tr>\n",
       "    <tr>\n",
       "      <th>13</th>\n",
       "      <td>9/9/2015 20:00:00</td>\n",
       "      <td>A:  Geodésica</td>\n",
       "      <td>0:16:10</td>\n",
       "      <td>5.140</td>\n",
       "      <td>19.0</td>\n",
       "      <td>0.0</td>\n",
       "      <td>0</td>\n",
       "      <td>970</td>\n",
       "    </tr>\n",
       "    <tr>\n",
       "      <th>14</th>\n",
       "      <td>1/26/2016 21:05:04</td>\n",
       "      <td>A:  Geodésica</td>\n",
       "      <td>0:16:15</td>\n",
       "      <td>5.150</td>\n",
       "      <td>19.0</td>\n",
       "      <td>0.0</td>\n",
       "      <td>0</td>\n",
       "      <td>975</td>\n",
       "    </tr>\n",
       "    <tr>\n",
       "      <th>15</th>\n",
       "      <td>9/8/2015 22:42:46</td>\n",
       "      <td>A:  Geodésica</td>\n",
       "      <td>0:16:30</td>\n",
       "      <td>5.150</td>\n",
       "      <td>18.7</td>\n",
       "      <td>0.0</td>\n",
       "      <td>0</td>\n",
       "      <td>990</td>\n",
       "    </tr>\n",
       "    <tr>\n",
       "      <th>16</th>\n",
       "      <td>9/22/2015 20:53:11</td>\n",
       "      <td>A:  Geodésica</td>\n",
       "      <td>0:16:47</td>\n",
       "      <td>5.130</td>\n",
       "      <td>18.7</td>\n",
       "      <td>0.0</td>\n",
       "      <td>0</td>\n",
       "      <td>1007</td>\n",
       "    </tr>\n",
       "    <tr>\n",
       "      <th>17</th>\n",
       "      <td>9/10/2015 19:57:48</td>\n",
       "      <td>A:  Geodésica</td>\n",
       "      <td>0:17:26</td>\n",
       "      <td>5.420</td>\n",
       "      <td>18.6</td>\n",
       "      <td>0.0</td>\n",
       "      <td>0</td>\n",
       "      <td>1046</td>\n",
       "    </tr>\n",
       "    <tr>\n",
       "      <th>18</th>\n",
       "      <td>9/29/2015 20:39:32</td>\n",
       "      <td>A:  Geodésica</td>\n",
       "      <td>0:17:07</td>\n",
       "      <td>5.150</td>\n",
       "      <td>18.0</td>\n",
       "      <td>0.0</td>\n",
       "      <td>0</td>\n",
       "      <td>1027</td>\n",
       "    </tr>\n",
       "    <tr>\n",
       "      <th>19</th>\n",
       "      <td>9/30/2015 21:21:21</td>\n",
       "      <td>A:  Geodésica</td>\n",
       "      <td>0:17:11</td>\n",
       "      <td>5.160</td>\n",
       "      <td>18.0</td>\n",
       "      <td>0.0</td>\n",
       "      <td>0</td>\n",
       "      <td>1031</td>\n",
       "    </tr>\n",
       "    <tr>\n",
       "      <th>20</th>\n",
       "      <td>9/25/2015 21:05:07</td>\n",
       "      <td>A:  Geodésica</td>\n",
       "      <td>0:17:33</td>\n",
       "      <td>5.150</td>\n",
       "      <td>17.6</td>\n",
       "      <td>0.0</td>\n",
       "      <td>0</td>\n",
       "      <td>1053</td>\n",
       "    </tr>\n",
       "    <tr>\n",
       "      <th>21</th>\n",
       "      <td>9/21/2015 20:34:58</td>\n",
       "      <td>B: Autopista</td>\n",
       "      <td>0:25:15</td>\n",
       "      <td>6.090</td>\n",
       "      <td>14.5</td>\n",
       "      <td>0.0</td>\n",
       "      <td>0</td>\n",
       "      <td>1515</td>\n",
       "    </tr>\n",
       "    <tr>\n",
       "      <th>22</th>\n",
       "      <td>2/10/2016 21:16:10</td>\n",
       "      <td>A:  Geodésica</td>\n",
       "      <td>0:14:46</td>\n",
       "      <td>5.203</td>\n",
       "      <td>21.2</td>\n",
       "      <td>0.0</td>\n",
       "      <td>0</td>\n",
       "      <td>886</td>\n",
       "    </tr>\n",
       "    <tr>\n",
       "      <th>23</th>\n",
       "      <td>2/23/2016 7:46:47</td>\n",
       "      <td>A:  Geodésica</td>\n",
       "      <td>0:15:54</td>\n",
       "      <td>5.237</td>\n",
       "      <td>19.7</td>\n",
       "      <td>0.0</td>\n",
       "      <td>0</td>\n",
       "      <td>954</td>\n",
       "    </tr>\n",
       "    <tr>\n",
       "      <th>24</th>\n",
       "      <td>2/29/2016 20:18:47</td>\n",
       "      <td>A:  Geodésica</td>\n",
       "      <td>0:15:39</td>\n",
       "      <td>5.201</td>\n",
       "      <td>20.0</td>\n",
       "      <td>32.7</td>\n",
       "      <td>88</td>\n",
       "      <td>939</td>\n",
       "    </tr>\n",
       "    <tr>\n",
       "      <th>25</th>\n",
       "      <td>3/1/2016 22:30:29</td>\n",
       "      <td>B: Autopista</td>\n",
       "      <td>0:16:21</td>\n",
       "      <td>6.072</td>\n",
       "      <td>22.2</td>\n",
       "      <td>33.4</td>\n",
       "      <td>87</td>\n",
       "      <td>981</td>\n",
       "    </tr>\n",
       "  </tbody>\n",
       "</table>\n",
       "</div>"
      ],
      "text/plain": [
       "             Timestamp           Ruta Duracion  Distancia  Velocidad  \\\n",
       "0     2/7/2016 6:43:09         D: 1km  0:01:20      1.000       45.0   \n",
       "1   9/23/2015 20:38:07         D: 1km  0:01:23      1.000       43.4   \n",
       "2   9/16/2015 20:25:08         D: 1km  0:01:25      1.000       42.4   \n",
       "3   9/29/2015 22:01:05         D: 1km  0:01:31      1.000       39.6   \n",
       "4   9/22/2015 21:02:28         D: 1km  0:01:38      1.000       36.7   \n",
       "5    2/3/2016 20:44:11   B: Autopista  0:16:35      6.043       21.9   \n",
       "6   1/25/2016 21:05:48   B: Autopista  0:16:56      6.090       21.6   \n",
       "7   9/23/2015 20:34:57   B: Autopista  0:17:23      5.960       20.6   \n",
       "8   9/16/2015 20:17:46   B: Autopista  0:17:44      5.980       20.2   \n",
       "9    2/4/2016 22:00:30  A:  Geodésica  0:15:38      5.209       20.0   \n",
       "10  10/1/2015 21:33:12  A:  Geodésica  0:15:33      5.160       19.9   \n",
       "11    2/3/2016 0:53:28  A:  Geodésica  0:15:52      5.205       19.6   \n",
       "12   2/9/2016 21:16:02  A:  Geodésica  0:16:28      5.245       19.1   \n",
       "13   9/9/2015 20:00:00  A:  Geodésica  0:16:10      5.140       19.0   \n",
       "14  1/26/2016 21:05:04  A:  Geodésica  0:16:15      5.150       19.0   \n",
       "15   9/8/2015 22:42:46  A:  Geodésica  0:16:30      5.150       18.7   \n",
       "16  9/22/2015 20:53:11  A:  Geodésica  0:16:47      5.130       18.7   \n",
       "17  9/10/2015 19:57:48  A:  Geodésica  0:17:26      5.420       18.6   \n",
       "18  9/29/2015 20:39:32  A:  Geodésica  0:17:07      5.150       18.0   \n",
       "19  9/30/2015 21:21:21  A:  Geodésica  0:17:11      5.160       18.0   \n",
       "20  9/25/2015 21:05:07  A:  Geodésica  0:17:33      5.150       17.6   \n",
       "21  9/21/2015 20:34:58   B: Autopista  0:25:15      6.090       14.5   \n",
       "22  2/10/2016 21:16:10  A:  Geodésica  0:14:46      5.203       21.2   \n",
       "23   2/23/2016 7:46:47  A:  Geodésica  0:15:54      5.237       19.7   \n",
       "24  2/29/2016 20:18:47  A:  Geodésica  0:15:39      5.201       20.0   \n",
       "25   3/1/2016 22:30:29   B: Autopista  0:16:21      6.072       22.2   \n",
       "\n",
       "    Velocidad máxima   W  Segundos  \n",
       "0                0.0   0        80  \n",
       "1                0.0   0        83  \n",
       "2                0.0   0        85  \n",
       "3                0.0   0        91  \n",
       "4                0.0   0        98  \n",
       "5                0.0   0       995  \n",
       "6                0.0   0      1016  \n",
       "7                0.0   0      1043  \n",
       "8                0.0   0      1064  \n",
       "9                0.0   0       938  \n",
       "10               0.0   0       933  \n",
       "11               0.0   0       952  \n",
       "12               0.0   0       988  \n",
       "13               0.0   0       970  \n",
       "14               0.0   0       975  \n",
       "15               0.0   0       990  \n",
       "16               0.0   0      1007  \n",
       "17               0.0   0      1046  \n",
       "18               0.0   0      1027  \n",
       "19               0.0   0      1031  \n",
       "20               0.0   0      1053  \n",
       "21               0.0   0      1515  \n",
       "22               0.0   0       886  \n",
       "23               0.0   0       954  \n",
       "24              32.7  88       939  \n",
       "25              33.4  87       981  "
      ]
     },
     "execution_count": 4,
     "metadata": {},
     "output_type": "execute_result"
    }
   ],
   "source": [
    "df"
   ]
  },
  {
   "cell_type": "code",
   "execution_count": 5,
   "metadata": {
    "collapsed": false
   },
   "outputs": [
    {
     "data": {
      "text/plain": [
       "(array([ 1.,  0.,  0.,  0.,  0.,  0.,  0.,  0.,  1.,  2.,  0.,  1.,  1.,\n",
       "         0.,  0.,  2.,  0.,  0.,  2.,  0.,  0.,  1.,  0.,  0.,  0.,  1.,\n",
       "         1.,  0.,  1.,  1.]),\n",
       " array([  886.        ,   891.56666667,   897.13333333,   902.7       ,\n",
       "          908.26666667,   913.83333333,   919.4       ,   924.96666667,\n",
       "          930.53333333,   936.1       ,   941.66666667,   947.23333333,\n",
       "          952.8       ,   958.36666667,   963.93333333,   969.5       ,\n",
       "          975.06666667,   980.63333333,   986.2       ,   991.76666667,\n",
       "          997.33333333,  1002.9       ,  1008.46666667,  1014.03333333,\n",
       "         1019.6       ,  1025.16666667,  1030.73333333,  1036.3       ,\n",
       "         1041.86666667,  1047.43333333,  1053.        ]),\n",
       " <a list of 30 Patch objects>)"
      ]
     },
     "execution_count": 5,
     "metadata": {},
     "output_type": "execute_result"
    },
    {
     "data": {
      "image/png": "[encoded data removed]",
      "text/plain": [
       "<matplotlib.figure.Figure at 0x7f7568651ba8>"
      ]
     },
     "metadata": {},
     "output_type": "display_data"
    }
   ],
   "source": [
    "g=df[df.Ruta.str.contains('Geodésica')].reset_index(drop=True)\n",
    "plt.hist(g.Segundos,bins=30)"
   ]
  },
  {
   "cell_type": "code",
   "execution_count": 6,
   "metadata": {
    "collapsed": false
   },
   "outputs": [
    {
     "data": {
      "text/plain": [
       "(array([ 1.,  0.,  0.,  2.,  0.,  0.,  0.,  0.,  1.,  2.,  0.,  2.,  1.,\n",
       "         0.,  0.,  0.,  1.,  1.,  0.,  3.,  0.,  0.,  0.,  0.,  0.,  0.,\n",
       "         0.,  0.,  0.,  1.]),\n",
       " array([ 17.6 ,  17.72,  17.84,  17.96,  18.08,  18.2 ,  18.32,  18.44,\n",
       "         18.56,  18.68,  18.8 ,  18.92,  19.04,  19.16,  19.28,  19.4 ,\n",
       "         19.52,  19.64,  19.76,  19.88,  20.  ,  20.12,  20.24,  20.36,\n",
       "         20.48,  20.6 ,  20.72,  20.84,  20.96,  21.08,  21.2 ]),\n",
       " <a list of 30 Patch objects>)"
      ]
     },
     "execution_count": 6,
     "metadata": {},
     "output_type": "execute_result"
    },
    {
     "data": {
      "image/png": "[encoded data removed]",
      "text/plain": [
       "<matplotlib.figure.Figure at 0x7f7562f76eb8>"
      ]
     },
     "metadata": {},
     "output_type": "display_data"
    }
   ],
   "source": [
    "plt.hist(g.Velocidad,bins=30)"
   ]
  },
  {
   "cell_type": "code",
   "execution_count": 7,
   "metadata": {
    "collapsed": false
   },
   "outputs": [
    {
     "data": {
      "text/plain": [
       "(array([ 1.,  1.,  4.,  2.,  0.,  0.,  0.,  3.,  1.,  0.,  0.,  2.,  0.,\n",
       "         0.,  0.,  0.,  0.,  0.,  0.,  0.,  0.,  0.,  0.,  0.,  0.,  0.,\n",
       "         0.,  0.,  0.,  1.]),\n",
       " array([ 5.13      ,  5.13966667,  5.14933333,  5.159     ,  5.16866667,\n",
       "         5.17833333,  5.188     ,  5.19766667,  5.20733333,  5.217     ,\n",
       "         5.22666667,  5.23633333,  5.246     ,  5.25566667,  5.26533333,\n",
       "         5.275     ,  5.28466667,  5.29433333,  5.304     ,  5.31366667,\n",
       "         5.32333333,  5.333     ,  5.34266667,  5.35233333,  5.362     ,\n",
       "         5.37166667,  5.38133333,  5.391     ,  5.40066667,  5.41033333,\n",
       "         5.42      ]),\n",
       " <a list of 30 Patch objects>)"
      ]
     },
     "execution_count": 7,
     "metadata": {},
     "output_type": "execute_result"
    },
    {
     "data": {
      "image/png": "[encoded data removed]",
      "text/plain": [
       "<matplotlib.figure.Figure at 0x7f7578b2c978>"
      ]
     },
     "metadata": {},
     "output_type": "display_data"
    }
   ],
   "source": [
    "plt.hist(g.Distancia,bins=30)"
   ]
  },
  {
   "cell_type": "code",
   "execution_count": 8,
   "metadata": {
    "collapsed": false
   },
   "outputs": [
    {
     "data": {
      "text/plain": [
       "[<matplotlib.lines.Line2D at 0x7f7562f4eef0>]"
      ]
     },
     "execution_count": 8,
     "metadata": {},
     "output_type": "execute_result"
    },
    {
     "data": {
      "image/png": "[encoded data removed]",
      "text/plain": [
       "<matplotlib.figure.Figure at 0x7f7563158f28>"
      ]
     },
     "metadata": {},
     "output_type": "display_data"
    }
   ],
   "source": [
    "gs=g.sort_values('Segundos')\n",
    "plt.plot(gs.Segundos,gs.Velocidad,'ro')"
   ]
  },
  {
   "cell_type": "code",
   "execution_count": 13,
   "metadata": {
    "collapsed": false
   },
   "outputs": [
    {
     "data": {
      "text/plain": [
       "[<matplotlib.lines.Line2D at 0x7f755f062c18>]"
      ]
     },
     "execution_count": 13,
     "metadata": {},
     "output_type": "execute_result"
    },
    {
     "data": {
      "image/png": "[encoded data removed]",
      "text/plain": [
       "<matplotlib.figure.Figure at 0x7f7561f706d8>"
      ]
     },
     "metadata": {},
     "output_type": "display_data"
    }
   ],
   "source": [
    "a=df[df.Ruta.str.contains('Autopista')].reset_index(drop=True)\n",
    "asg=a.sort_values('Segundos')\n",
    "plt.plot(asg.Segundos,asg.Velocidad,'ro')"
   ]
  },
  {
   "cell_type": "code",
   "execution_count": 9,
   "metadata": {
    "collapsed": false
   },
   "outputs": [
    {
     "name": "stdout",
     "output_type": "stream",
     "text": [
      "Overwriting gitconfig.sh\n"
     ]
    }
   ],
   "source": [
    "%%writefile gitconfig.sh\n",
    "git config --global user.email \"restrepo@udea.edu.co\"\n",
    "git config --global user.name \"restrepo\"\n",
    "git commit -am 'changes'"
   ]
  },
  {
   "cell_type": "code",
   "execution_count": 10,
   "metadata": {
    "collapsed": false
   },
   "outputs": [
    {
     "name": "stderr",
     "output_type": "stream",
     "text": [
      "fatal: could not read Username for 'https://github.com': No such device or address\n"
     ]
    }
   ],
   "source": [
    "%%bash\n",
    "git push origin master"
   ]
  },
  {
   "cell_type": "code",
   "execution_count": null,
   "metadata": {
    "collapsed": true
   },
   "outputs": [],
   "source": []
  }
 ],
 "metadata": {
  "kernelspec": {
   "display_name": "Python 3",
   "language": "python",
   "name": "python3"
  },
  "language_info": {
   "codemirror_mode": {
    "name": "ipython",
    "version": 3
   },
   "file_extension": ".py",
   "mimetype": "text/x-python",
   "name": "python",
   "nbconvert_exporter": "python",
   "pygments_lexer": "ipython3",
   "version": "3.4.3"
  }
 },
 "nbformat": 4,
 "nbformat_minor": 0
}
